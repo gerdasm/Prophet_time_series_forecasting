{
 "cells": [
  {
   "cell_type": "code",
   "execution_count": 2,
   "id": "5dc2bc20",
   "metadata": {
    "scrolled": true
   },
   "outputs": [],
   "source": [
    "from datetime import date\n",
    "import json\n",
    "import requests\n",
    "import pandas as pd\n",
    "import numpy as np"
   ]
  },
  {
   "cell_type": "markdown",
   "id": "89ac5125",
   "metadata": {},
   "source": [
    "# Key Macroeconomic Indicators\n",
    "https://www.lb.lt/lt/naujausios-ekonomikos-prognozes#ex-1-1 <br>\n",
    "https://osp.stat.gov.lt/en/pagrindiniai-salies-rodikliai"
   ]
  },
  {
   "cell_type": "markdown",
   "id": "1e1a4924",
   "metadata": {
    "heading_collapsed": true
   },
   "source": [
    "## BVP Growth\n",
    "https://stats.oecd.org/index.aspx?lang=en# <br>\n",
    "Key Short-Term Economic Indicators <br>\n",
    "Gross domestic product; constant prices, s.a. <br>\n",
    "Growth on the same period of the previous year <br>\n",
    "<br>\n",
    "https://www.seb.lt/infohub-archive?date=any_time&dropdown=any_time&mobile_month=3&mobile_year=2022&month=3&year=2022&field_category%5B662%5D=662"
   ]
  },
  {
   "cell_type": "code",
   "execution_count": 59,
   "id": "c646a0e3",
   "metadata": {
    "hidden": true
   },
   "outputs": [
    {
     "data": {
      "text/html": [
       "<div>\n",
       "<style scoped>\n",
       "    .dataframe tbody tr th:only-of-type {\n",
       "        vertical-align: middle;\n",
       "    }\n",
       "\n",
       "    .dataframe tbody tr th {\n",
       "        vertical-align: top;\n",
       "    }\n",
       "\n",
       "    .dataframe thead th {\n",
       "        text-align: right;\n",
       "    }\n",
       "</style>\n",
       "<table border=\"1\" class=\"dataframe\">\n",
       "  <thead>\n",
       "    <tr style=\"text-align: right;\">\n",
       "      <th></th>\n",
       "      <th>gdp_growth</th>\n",
       "      <th>year</th>\n",
       "      <th>quarter</th>\n",
       "    </tr>\n",
       "  </thead>\n",
       "  <tbody>\n",
       "    <tr>\n",
       "      <th>20</th>\n",
       "      <td>1.0</td>\n",
       "      <td>2021</td>\n",
       "      <td>1</td>\n",
       "    </tr>\n",
       "    <tr>\n",
       "      <th>21</th>\n",
       "      <td>8.6</td>\n",
       "      <td>2021</td>\n",
       "      <td>2</td>\n",
       "    </tr>\n",
       "    <tr>\n",
       "      <th>22</th>\n",
       "      <td>5.3</td>\n",
       "      <td>2021</td>\n",
       "      <td>3</td>\n",
       "    </tr>\n",
       "    <tr>\n",
       "      <th>23</th>\n",
       "      <td>5.0</td>\n",
       "      <td>2021</td>\n",
       "      <td>4</td>\n",
       "    </tr>\n",
       "    <tr>\n",
       "      <th>24</th>\n",
       "      <td>4.4</td>\n",
       "      <td>2022</td>\n",
       "      <td>1</td>\n",
       "    </tr>\n",
       "  </tbody>\n",
       "</table>\n",
       "</div>"
      ],
      "text/plain": [
       "    gdp_growth  year  quarter\n",
       "20         1.0  2021        1\n",
       "21         8.6  2021        2\n",
       "22         5.3  2021        3\n",
       "23         5.0  2021        4\n",
       "24         4.4  2022        1"
      ]
     },
     "execution_count": 59,
     "metadata": {},
     "output_type": "execute_result"
    }
   ],
   "source": [
    "url = f'https://stats.oecd.org/SDMX-JSON/data/KEI/PS+PR+PRINTO01+PRMNTO01+PRCNTO01+SL+SLRTTO01+SLRTCR03+OD+ODCNPI03+CI+LO+LOLITOAA+BS+BSCICP02+LORSGPRT+CS+CSCICP02+LI+LF+LFEMTTTT+LR+LRHUTTTT+LC+LCEAMN01+UL+ULQEUL01+PP+PI+PIEAMP01+CP+CPALTT01+FI+MA+MANMM101+MABMM301+IR+IRSTCI01+IR3TIB01+IRLTLT01+SP+SPASTT01+CCUSMA02+XT+XTEXVA01+XTIMVA01+BP+B6BLTT02+NA+NAEXKP01+NAEXKP02+NAEXKP03+NAEXKP04+NAEXKP06+NAEXKP07.LTU.GP+GY+ST.Q/all?startTime=2016-Q1&endTime={date.today().year}-Q4&dimensionAtObservation=allDimensions'\n",
    "response = requests.get(url)\n",
    "json_data = response.json() # This method is convenient when the API returns JSON\n",
    "\n",
    "subject = pd.DataFrame(json_data['structure']['dimensions']['observation'][0]['values']).reset_index()\n",
    "subject = subject[subject['name'] == 'Gross domestic product; constant prices, s.a.']\n",
    "\n",
    "measure = pd.DataFrame(json_data['structure']['dimensions']['observation'][2]['values']).reset_index()\n",
    "measure = measure[measure['name'] == 'Growth on the same period of the previous year']\n",
    "\n",
    "gdp_data = pd.DataFrame(json_data['dataSets'][0]['observations']).T.reset_index()\n",
    "gdp_data = gdp_data[gdp_data['index'].str.startswith(str(f\"{subject.index.values[0]}:0:{measure.index.values[0]}:0\"))][0]\n",
    "\n",
    "gdp_data = gdp_data.reset_index(drop = True).reset_index()\n",
    "gdp_data.columns = ['index', 'gdp_growth']\n",
    "\n",
    "datos = pd.DataFrame(json_data['structure']['dimensions']['observation'][4]['values']).reset_index()\n",
    "\n",
    "gdp_data =  pd.concat([gdp_data, datos], axis = 1)\n",
    "gdp_data = gdp_data[['id', 'gdp_growth']]\n",
    "\n",
    "gdp_data['year'] = gdp_data['id'].str[:4].astype(int)\n",
    "gdp_data['quarter'] = gdp_data['id'].str[-1:].astype(int)\n",
    "gdp_data = gdp_data.drop(columns = ['id']).dropna()\n",
    "\n",
    "gdp_data.tail(5).round(1)"
   ]
  },
  {
   "cell_type": "markdown",
   "id": "c7056111",
   "metadata": {
    "heading_collapsed": true
   },
   "source": [
    "## Salary growth\n",
    "https://osp.stat.gov.lt/verslas-lietuvoje-2020/vidutinis-menesinis-darbo-uzmokestis <br>\n",
    "Average net monthly earnings of employees in the whole economy. EUR <br>\n",
    "Neto"
   ]
  },
  {
   "cell_type": "code",
   "execution_count": null,
   "id": "f0e6d9b1",
   "metadata": {
    "hidden": true
   },
   "outputs": [],
   "source": [
    "def salary_func(year):\n",
    "    if year == 2016:\n",
    "        return 8.4\n",
    "    elif year == 2017:\n",
    "        return 8.6\n",
    "    elif year == 2018:\n",
    "        return 10.0\n",
    "    elif year == 2019:\n",
    "        return 8.8\n",
    "    elif year == 2020:\n",
    "        return 10.2\n",
    "    elif year == 2021:\n",
    "        return 10.5\n",
    "    elif year == 2022:\n",
    "        return 11.9\n",
    "    elif year == 2023:\n",
    "        return 8.1\n",
    "    else:\n",
    "        return 0  \n",
    "    \n",
    "f'KMI last updated: {date.today()}'"
   ]
  },
  {
   "cell_type": "code",
   "execution_count": null,
   "id": "3b36e00e",
   "metadata": {
    "hidden": true
   },
   "outputs": [],
   "source": [
    "# ## Vartotojų kainų pokyčiai, apskaičiuoti pagal vartotojų kainų indeksą\n",
    "# ## Individualaus vartojimo išlaidų pagal paskirtį klasifikatorius (COICOP) (1991M01 - 2022M06) (Atnaujinta: 2022-07-11)\n",
    "\n",
    "# url = f'https://osp-rs.stat.gov.lt/rest_json/data/S3R0050_M3060315_1/?startPeriod=2016-01&endPeriod={date.today().year}-12'\n",
    "\n",
    "# response = requests.get(url)\n",
    "# json_data = response.json() # This method is convenient when the API returns JSON\n",
    "\n",
    "# sektorius = pd.DataFrame(json_data['structure']['dimensions']['observation'][0]['values']).reset_index()\n",
    "# sektorius = sektorius[sektorius['name'] == 'Šalies ūkis su individualiosiomis įmonėmis']\n",
    "\n",
    "# veikla = pd.DataFrame(json_data['structure']['dimensions']['observation'][1]['values']).reset_index()\n",
    "# veikla = veikla[veikla['name'] == 'Iš viso pagal ekonomines veiklos rūšis']\n",
    "\n",
    "# lytis = pd.DataFrame(json_data['structure']['dimensions']['observation'][2]['values']).reset_index()\n",
    "# lytis = lytis[lytis['name'] == 'Vyrai ir moterys']\n",
    "\n",
    "# tipas = pd.DataFrame(json_data['structure']['dimensions']['observation'][3]['values']).reset_index()\n",
    "# tipas = tipas[tipas['name'] == 'Neto']\n",
    "\n",
    "# salary_data = pd.DataFrame(json_data['dataSets'][0]['observations']).T.reset_index()\n",
    "# salary_data = salary_data[salary_data['index'].str.startswith(str(f\"{sektorius.index.values[0]}:{veikla.index.values[0]}:{lytis.index.values[0]}:{tipas.index.values[0]}:\"))][0]\n",
    "\n",
    "# salary_data = salary_data.reset_index(drop = True).reset_index()\n",
    "# salary_data.columns = ['index', 'Salary growth']\n",
    "\n",
    "# datos = pd.DataFrame(json_data['structure']['dimensions']['observation'][5]['values']).reset_index()\n",
    "\n",
    "# salary_data =  pd.concat([salary_data, datos], axis = 1)\n",
    "# salary_data = salary_data[['id', 'Salary growth']]\n",
    "\n",
    "# salary_data['year'] = salary_data['id'].str[:4].astype(int)\n",
    "# salary_data['quarter'] = salary_data['id'].str[-1:].astype(int)\n",
    "# salary_data.drop(columns = ['id'], inplace = True)\n",
    "\n",
    "# salary_data = salary_data.sort_values(['year', 'quarter'])\n",
    "\n",
    "# salary_data = pd.concat([salary_data.rename({'Salary growth':'curr_value'}, axis = 'columns'),\n",
    "#                      salary_data.shift(4).rename({'Salary growth':'prev_value'}, axis = 'columns')], axis = 1)\n",
    "\n",
    "# salary_data['Salary growth'] = (salary_data['curr_value'] / salary_data['prev_value'] - 1) * 100\n",
    "# salary_data = salary_data.loc[:,~salary_data.columns.duplicated()].dropna()\n",
    "\n",
    "# salary_data = salary_data[['year', 'quarter', 'Salary growth']]\n",
    "# salary_data.head(5)"
   ]
  },
  {
   "cell_type": "markdown",
   "id": "f45cade5",
   "metadata": {
    "heading_collapsed": true
   },
   "source": [
    "## Export & Import Growth\n",
    "https://osp.stat.gov.lt/statistiniu-rodikliu-analize#/ <br>\n",
    "Prekių ir paslaugų eksportas, palyginamosiomis kainomis (grandininio susiejimo metodu) <br>\n",
    "Prekių ir paslaugų importas, palyginamosiomis kainomis (grandininio susiejimo metodu)"
   ]
  },
  {
   "cell_type": "code",
   "execution_count": null,
   "id": "12f30bca",
   "metadata": {
    "hidden": true
   },
   "outputs": [],
   "source": [
    "def export_func(year):\n",
    "    if year == 2016:\n",
    "        return 4.9\n",
    "    elif year == 2017:\n",
    "        return 13.5\n",
    "    elif year == 2018:\n",
    "        return 6.8\n",
    "    elif year == 2019:\n",
    "        return 9.9\n",
    "    elif year == 2020:\n",
    "        return 0.4\n",
    "    elif year == 2021:\n",
    "        return 15.9\n",
    "    elif year == 2022:\n",
    "        return 7.4\n",
    "    elif year == 2023:\n",
    "        return 2.9\n",
    "    else:\n",
    "        return 0      \n",
    "# '==============================='\n",
    "def import_func(year):\n",
    "    if year == 2016:\n",
    "        return 4.0\n",
    "    elif year == 2017:\n",
    "        return 11.1\n",
    "    elif year == 2018:\n",
    "        return 6.0\n",
    "    elif year == 2019:\n",
    "        return 6.1\n",
    "    elif year == 2020:\n",
    "        return -4.4\n",
    "    elif year == 2021:\n",
    "        return 18.7\n",
    "    elif year == 2022:\n",
    "        return 9.8\n",
    "    elif year == 2023:\n",
    "        return 2.8\n",
    "    else:\n",
    "        return 0   \n",
    "    \n",
    "f'KMI last updated: {date.today()}'"
   ]
  },
  {
   "cell_type": "markdown",
   "id": "2b38e4bd",
   "metadata": {
    "heading_collapsed": true
   },
   "source": [
    "## Inflation Growth\n",
    "https://tradingeconomics.com/lithuania/forecast <br>\n",
    "Inflation Rate (%)"
   ]
  },
  {
   "cell_type": "code",
   "execution_count": 12,
   "id": "02ce5dd3",
   "metadata": {
    "code_folding": [],
    "hidden": true
   },
   "outputs": [
    {
     "data": {
      "text/html": [
       "<div>\n",
       "<style scoped>\n",
       "    .dataframe tbody tr th:only-of-type {\n",
       "        vertical-align: middle;\n",
       "    }\n",
       "\n",
       "    .dataframe tbody tr th {\n",
       "        vertical-align: top;\n",
       "    }\n",
       "\n",
       "    .dataframe thead th {\n",
       "        text-align: right;\n",
       "    }\n",
       "</style>\n",
       "<table border=\"1\" class=\"dataframe\">\n",
       "  <thead>\n",
       "    <tr style=\"text-align: right;\">\n",
       "      <th></th>\n",
       "      <th>inflation_growth</th>\n",
       "      <th>year</th>\n",
       "      <th>month</th>\n",
       "      <th>quarter</th>\n",
       "    </tr>\n",
       "  </thead>\n",
       "  <tbody>\n",
       "    <tr>\n",
       "      <th>61</th>\n",
       "      <td>14.2</td>\n",
       "      <td>2022</td>\n",
       "      <td>2</td>\n",
       "      <td>1</td>\n",
       "    </tr>\n",
       "    <tr>\n",
       "      <th>62</th>\n",
       "      <td>15.7</td>\n",
       "      <td>2022</td>\n",
       "      <td>3</td>\n",
       "      <td>1</td>\n",
       "    </tr>\n",
       "    <tr>\n",
       "      <th>63</th>\n",
       "      <td>16.8</td>\n",
       "      <td>2022</td>\n",
       "      <td>4</td>\n",
       "      <td>2</td>\n",
       "    </tr>\n",
       "    <tr>\n",
       "      <th>64</th>\n",
       "      <td>18.9</td>\n",
       "      <td>2022</td>\n",
       "      <td>5</td>\n",
       "      <td>2</td>\n",
       "    </tr>\n",
       "    <tr>\n",
       "      <th>65</th>\n",
       "      <td>21.0</td>\n",
       "      <td>2022</td>\n",
       "      <td>6</td>\n",
       "      <td>2</td>\n",
       "    </tr>\n",
       "  </tbody>\n",
       "</table>\n",
       "</div>"
      ],
      "text/plain": [
       "    inflation_growth  year  month  quarter\n",
       "61              14.2  2022      2        1\n",
       "62              15.7  2022      3        1\n",
       "63              16.8  2022      4        2\n",
       "64              18.9  2022      5        2\n",
       "65              21.0  2022      6        2"
      ]
     },
     "execution_count": 12,
     "metadata": {},
     "output_type": "execute_result"
    }
   ],
   "source": [
    "## Vartotojų kainų pokyčiai, apskaičiuoti pagal vartotojų kainų indeksą\n",
    "## Individualaus vartojimo išlaidų pagal paskirtį klasifikatorius (COICOP) (1991M01 - 2022M06) (Atnaujinta: 2022-07-11)\n",
    "\n",
    "url = f'https://osp-rs.stat.gov.lt/rest_json/data/S7R121_M2020103/?startPeriod=2017-01&endPeriod={date.today().year}-12'\n",
    "\n",
    "response = requests.get(url)\n",
    "json_data = response.json() # This method is convenient when the API returns JSON\n",
    "\n",
    "klasifikatorius = pd.DataFrame(json_data['structure']['dimensions']['observation'][0]['values']).reset_index()\n",
    "klasifikatorius = klasifikatorius[klasifikatorius['id'] == '00']\n",
    "\n",
    "lyginimas = pd.DataFrame(json_data['structure']['dimensions']['observation'][1]['values']).reset_index()\n",
    "lyginimas = lyginimas[lyginimas['id'] == 'palyg_pm']\n",
    "\n",
    "cpi_data = pd.DataFrame(json_data['dataSets'][0]['observations']).T.reset_index()\n",
    "cpi_data = cpi_data[cpi_data['index'].str.startswith(str(f\"{klasifikatorius.index.values[0]}:{lyginimas.index.values[0]}:0:\"))][0]\n",
    "\n",
    "cpi_data = cpi_data.reset_index(drop = True).reset_index()\n",
    "cpi_data.columns = ['index', 'inflation_growth']\n",
    "\n",
    "datos = pd.DataFrame(json_data['structure']['dimensions']['observation'][3]['values']).reset_index()\n",
    "\n",
    "cpi_data =  pd.concat([cpi_data, datos], axis = 1)\n",
    "cpi_data = cpi_data[['id', 'inflation_growth']]\n",
    "\n",
    "cpi_data['year'] = cpi_data['id'].str[:4].astype(int)\n",
    "cpi_data['month'] = cpi_data['id'].str[-2:].astype(int)\n",
    "cpi_data['quarter'] = [int(np.ceil(x / 3))  for x in cpi_data['month']]\n",
    "cpi_data.drop(columns = ['id'], inplace = True)\n",
    "\n",
    "cpi_data.tail(5)"
   ]
  },
  {
   "cell_type": "markdown",
   "id": "24405684",
   "metadata": {
    "heading_collapsed": true
   },
   "source": [
    "## Unemployed & Employment Growth"
   ]
  },
  {
   "cell_type": "code",
   "execution_count": null,
   "id": "b61ed3b5",
   "metadata": {
    "hidden": true
   },
   "outputs": [],
   "source": [
    "def unemployed_func(year):\n",
    "    if year == 2016:\n",
    "        return 7.9\n",
    "    elif year == 2017:\n",
    "        return 7.1\n",
    "    elif year == 2018:\n",
    "        return 6.1\n",
    "    elif year == 2019:\n",
    "        return 6.3\n",
    "    elif year == 2020:\n",
    "        return 8.5\n",
    "    elif year == 2021:\n",
    "        return 7.1\n",
    "    elif year == 2022:\n",
    "        return 7.3\n",
    "    elif year == 2023:\n",
    "        return 7.2\n",
    "    else:\n",
    "        return 0      \n",
    "# '================================================================================='\n",
    "def employed_func(year):\n",
    "    if year == 2016:\n",
    "        return 2.0\n",
    "    elif year == 2017:\n",
    "        return -0.5\n",
    "    elif year == 2018:\n",
    "        return 1.5\n",
    "    elif year == 2019:\n",
    "        return 0.3\n",
    "    elif year == 2020:\n",
    "        return -1.5\n",
    "    elif year == 2021:\n",
    "        return 0.8\n",
    "    elif year == 2022:\n",
    "        return 0.6\n",
    "    elif year == 2023:\n",
    "        return 0.3\n",
    "    else:\n",
    "        return 0    \n",
    "    \n",
    "f'KMI last updated: {date.today()}'"
   ]
  },
  {
   "cell_type": "code",
   "execution_count": null,
   "id": "3b842e92",
   "metadata": {
    "hidden": true
   },
   "outputs": [],
   "source": [
    "# ## Nedarbo lygis\n",
    "# ## Amžius (tikslinės amžiaus grupės) | Gyvenamoji vietovė | Lytis (1998K2 - 2022K1) (Atnaujinta: 2022-05-13)\n",
    "\n",
    "# url = f'https://osp-rs.stat.gov.lt/rest_json/data/S3R347_M3030101_1/?startPeriod=2017-01&endPeriod={date.today().year}-12'\n",
    "\n",
    "# response = requests.get(url)\n",
    "# json_data = response.json() # This method is convenient when the API returns JSON\n",
    "\n",
    "# amzius = pd.DataFrame(json_data['structure']['dimensions']['observation'][0]['values']).reset_index()\n",
    "# amzius = amzius[amzius['name'] == 'Iš viso pagal amžiaus grupes']\n",
    "\n",
    "# gyvenama_vieta = pd.DataFrame(json_data['structure']['dimensions']['observation'][1]['values']).reset_index()\n",
    "# gyvenama_vieta = gyvenama_vieta[gyvenama_vieta['name'] == 'Miestas ir kaimas']\n",
    "\n",
    "# lytis = pd.DataFrame(json_data['structure']['dimensions']['observation'][2]['values']).reset_index()\n",
    "# lytis = lytis[lytis['name'] == 'Vyrai ir moterys']\n",
    "\n",
    "# unemployment_data = pd.DataFrame(json_data['dataSets'][0]['observations']).T.reset_index()\n",
    "# unemployment_data = unemployment_data[unemployment_data['index'].str.startswith(str(f\"{amzius.index.values[0]}:{gyvenama_vieta.index.values[0]}:{lytis.index.values[0]}:0:\"))][0]\n",
    "\n",
    "# unemployment_data = unemployment_data.reset_index(drop = True).reset_index()\n",
    "# unemployment_data.columns = ['index', 'Unemployment level']\n",
    "\n",
    "# datos = pd.DataFrame(json_data['structure']['dimensions']['observation'][4]['values']).reset_index()\n",
    "\n",
    "# unemployment_data =  pd.concat([unemployment_data, datos], axis = 1)\n",
    "# unemployment_data = unemployment_data[['id', 'Unemployment level']]\n",
    "\n",
    "# unemployment_data['year'] = unemployment_data['id'].str[:4].astype(int)\n",
    "# unemployment_data['quarter'] = unemployment_data['id'].str[-1:].astype(int)\n",
    "\n",
    "# unemployment_data.head(5)"
   ]
  },
  {
   "cell_type": "code",
   "execution_count": null,
   "id": "e148f638",
   "metadata": {
    "hidden": true
   },
   "outputs": [],
   "source": [
    "# ## Nedarbo lygis\n",
    "# ## Amžius (tikslinės amžiaus grupės) | Gyvenamoji vietovė | Lytis (1998K2 - 2022K1) (Atnaujinta: 2022-05-13)\n",
    "\n",
    "# url = f'https://osp-rs.stat.gov.lt/rest_json/data/S3R532_M3030101_2/?startPeriod=2016-01&endPeriod={date.today().year}-12'\n",
    "\n",
    "# response = requests.get(url)\n",
    "# json_data = response.json() # This method is convenient when the API returns JSON\n",
    "\n",
    "# amzius = pd.DataFrame(json_data['structure']['dimensions']['observation'][0]['values']).reset_index()\n",
    "# amzius = amzius[amzius['name'] == 'Iš viso pagal amžiaus grupes']\n",
    "\n",
    "# gyvenama_vieta = pd.DataFrame(json_data['structure']['dimensions']['observation'][1]['values']).reset_index()\n",
    "# gyvenama_vieta = gyvenama_vieta[gyvenama_vieta['name'] == 'Miestas ir kaimas']\n",
    "\n",
    "# lytis = pd.DataFrame(json_data['structure']['dimensions']['observation'][2]['values']).reset_index()\n",
    "# lytis = lytis[lytis['name'] == 'Vyrai ir moterys']\n",
    "\n",
    "# employment_data = pd.DataFrame(json_data['dataSets'][0]['observations']).T.reset_index()\n",
    "# employment_data = employment_data[employment_data['index'].str.startswith(str(f\"{amzius.index.values[0]}:{gyvenama_vieta.index.values[0]}:{lytis.index.values[0]}:0:\"))][0]\n",
    "\n",
    "# employment_data = employment_data.reset_index(drop = True).reset_index()\n",
    "# employment_data.columns = ['index', 'Employment level']\n",
    "\n",
    "# datos = pd.DataFrame(json_data['structure']['dimensions']['observation'][4]['values']).reset_index()\n",
    "\n",
    "# employment_data =  pd.concat([employment_data, datos], axis = 1)\n",
    "# employment_data = employment_data[['id', 'Employment level']]\n",
    "\n",
    "# employment_data['year'] = employment_data['id'].str[:4].astype(int)\n",
    "# employment_data['quarter'] = employment_data['id'].str[-1:].astype(int)\n",
    "\n",
    "# employment_data = employment_data.sort_values(['year', 'quarter'])\n",
    "\n",
    "# employment_data = pd.concat([employment_data.rename({'Employment level':'curr_value'}, axis = 'columns'),\n",
    "#                      employment_data.shift(4).rename({'Employment level':'prev_value'}, axis = 'columns')], axis = 1)\n",
    "\n",
    "# employment_data['Employment level'] = (employment_data['curr_value'] / employment_data['prev_value'] - 1) * 100\n",
    "# employment_data = employment_data.loc[:,~employment_data.columns.duplicated()].dropna()\n",
    "\n",
    "# employment_data = employment_data.merge(unemployment_data, on = ['year', 'quarter'])\n",
    "# employment_data = employment_data[['year', 'quarter', 'Employment level', 'Unemployment level']]\n",
    "\n",
    "# employment_data.head(5)"
   ]
  },
  {
   "cell_type": "markdown",
   "id": "2fa12630",
   "metadata": {
    "heading_collapsed": true
   },
   "source": [
    "## Consumption expenditure\n",
    "BVP išlaidų metodu, palyginamosiomis kainomis (grandininio susiejimo metodu) <br>\n",
    "Namų ūkių ir NPI galutinio vartojimo išlaidos <br>\n",
    "Valdžios sektoriaus galutinio vartojimo išlaidos"
   ]
  },
  {
   "cell_type": "code",
   "execution_count": null,
   "id": "f8feb1bc",
   "metadata": {
    "hidden": true
   },
   "outputs": [],
   "source": [
    "def privat_consump_func(year):\n",
    "    if year == 2016:\n",
    "        return 4.1\n",
    "    elif year == 2017:\n",
    "        return 3.6\n",
    "    elif year == 2018:\n",
    "        return 3.6\n",
    "    elif year == 2019:\n",
    "        return 3.1\n",
    "    elif year == 2020:\n",
    "        return -2.1\n",
    "    elif year == 2021:\n",
    "        return 7.3\n",
    "    elif year == 2022:\n",
    "        return 5.4\n",
    "    elif year == 2023:\n",
    "        return 3.8\n",
    "    else:\n",
    "        return 0      \n",
    "# '================================================================================='\n",
    "def govern_consump_func(year):\n",
    "    if year == 2016:\n",
    "        return 0.1\n",
    "    elif year == 2017:\n",
    "        return -0.3\n",
    "    elif year == 2018:\n",
    "        return 0.2\n",
    "    elif year == 2019:\n",
    "        return -0.3\n",
    "    elif year == 2020:\n",
    "        return -0.4\n",
    "    elif year == 2021:\n",
    "        return 0.5\n",
    "    elif year == 2022:\n",
    "        return 1.5\n",
    "    elif year == 2023:\n",
    "        return -1.3\n",
    "    else:\n",
    "        return 0    \n",
    "    \n",
    "f'KMI last updated: {date.today()}'"
   ]
  },
  {
   "cell_type": "code",
   "execution_count": null,
   "id": "f19810e3",
   "metadata": {
    "hidden": true
   },
   "outputs": [],
   "source": []
  }
 ],
 "metadata": {
  "kernelspec": {
   "display_name": "Python 3 (ipykernel)",
   "language": "python",
   "name": "python3"
  },
  "language_info": {
   "codemirror_mode": {
    "name": "ipython",
    "version": 3
   },
   "file_extension": ".py",
   "mimetype": "text/x-python",
   "name": "python",
   "nbconvert_exporter": "python",
   "pygments_lexer": "ipython3",
   "version": "3.8.11"
  },
  "toc": {
   "base_numbering": 1,
   "nav_menu": {},
   "number_sections": true,
   "sideBar": true,
   "skip_h1_title": false,
   "title_cell": "Table of Contents",
   "title_sidebar": "Contents",
   "toc_cell": false,
   "toc_position": {
    "height": "757px",
    "left": "405px",
    "top": "88px",
    "width": "244px"
   },
   "toc_section_display": true,
   "toc_window_display": true
  },
  "varInspector": {
   "cols": {
    "lenName": 16,
    "lenType": 16,
    "lenVar": 40
   },
   "kernels_config": {
    "python": {
     "delete_cmd_postfix": "",
     "delete_cmd_prefix": "del ",
     "library": "var_list.py",
     "varRefreshCmd": "print(var_dic_list())"
    },
    "r": {
     "delete_cmd_postfix": ") ",
     "delete_cmd_prefix": "rm(",
     "library": "var_list.r",
     "varRefreshCmd": "cat(var_dic_list()) "
    }
   },
   "position": {
    "height": "144.844px",
    "left": "1549px",
    "right": "20px",
    "top": "120px",
    "width": "350px"
   },
   "types_to_exclude": [
    "module",
    "function",
    "builtin_function_or_method",
    "instance",
    "_Feature"
   ],
   "window_display": false
  }
 },
 "nbformat": 4,
 "nbformat_minor": 5
}
